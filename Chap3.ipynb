{
  "nbformat": 4,
  "nbformat_minor": 0,
  "metadata": {
    "colab": {
      "name": "Chap3.ipynb",
      "provenance": [],
      "collapsed_sections": [],
      "toc_visible": true,
      "authorship_tag": "ABX9TyO69Iwjq6jTZkpOVU1qRsif",
      "include_colab_link": true
    },
    "kernelspec": {
      "name": "python3",
      "display_name": "Python 3"
    }
  },
  "cells": [
    {
      "cell_type": "markdown",
      "metadata": {
        "id": "view-in-github",
        "colab_type": "text"
      },
      "source": [
        "<a href=\"https://colab.research.google.com/github/ming-AA/ai-study/blob/main/Chap3.ipynb\" target=\"_parent\"><img src=\"https://colab.research.google.com/assets/colab-badge.svg\" alt=\"Open In Colab\"/></a>"
      ]
    },
    {
      "cell_type": "markdown",
      "metadata": {
        "id": "MNj0KtsdR43o"
      },
      "source": [
        "# chap3. 회귀 알고리즘과 모델 규제"
      ]
    },
    {
      "cell_type": "markdown",
      "metadata": {
        "id": "4K1j39oSSDN_"
      },
      "source": [
        "# 3-1. k-최근접 이웃 회귀"
      ]
    },
    {
      "cell_type": "markdown",
      "metadata": {
        "id": "P39ERFm2SL9f"
      },
      "source": [
        "## 분류와 회귀\n",
        "분류\n",
        "* 샘플을 몇 개의 클래스 중 하나로 분류하는 문제\n",
        "\n",
        "회귀\n",
        "* 임의의 어떤 숫자를 예측하는 문제\n",
        "* 두 변수 사이의 상관관계를 분석하는 방법"
      ]
    },
    {
      "cell_type": "markdown",
      "metadata": {
        "id": "j-5vTh3OfvUt"
      },
      "source": [
        "## k-최근접\n",
        "**k-최근접 이웃 분류**\n",
        "* 예측하려는 샘플에 가장 가까운 샘플 k개를 선택 후 더 많은 클래스 중 하나로 분류\n",
        "\n",
        "**k-최근접 이웃 회귀**\n",
        "* 예측하려는 샘플에 가장 가까운 샘플 k개를 선택 후 이웃 샘플의 수치를 사용하여 예측"
      ]
    },
    {
      "cell_type": "code",
      "metadata": {
        "id": "xTYVpCNtcbvG"
      },
      "source": [
        "import numpy as  np\n",
        "# 데이터 준비\n",
        "perch_length = np.array([8.4, 13.7, 15.0, 16.2, 17.4, 18.0, 18.7, 19.0, 19.6, 20.0, 21.0,\n",
        "       21.0, 21.0, 21.3, 22.0, 22.0, 22.0, 22.0, 22.0, 22.5, 22.5, 22.7,\n",
        "       23.0, 23.5, 24.0, 24.0, 24.6, 25.0, 25.6, 26.5, 27.3, 27.5, 27.5,\n",
        "       27.5, 28.0, 28.7, 30.0, 32.8, 34.5, 35.0, 36.5, 36.0, 37.0, 37.0,\n",
        "       39.0, 39.0, 39.0, 40.0, 40.0, 40.0, 40.0, 42.0, 43.0, 43.0, 43.5,\n",
        "       44.0])\n",
        "perch_weight = np.array([5.9, 32.0, 40.0, 51.5, 70.0, 100.0, 78.0, 80.0, 85.0, 85.0, 110.0,\n",
        "       115.0, 125.0, 130.0, 120.0, 120.0, 130.0, 135.0, 110.0, 130.0,\n",
        "       150.0, 145.0, 150.0, 170.0, 225.0, 145.0, 188.0, 180.0, 197.0,\n",
        "       218.0, 300.0, 260.0, 265.0, 250.0, 250.0, 300.0, 320.0, 514.0,\n",
        "       556.0, 840.0, 685.0, 700.0, 700.0, 690.0, 900.0, 650.0, 820.0,\n",
        "       850.0, 900.0, 1015.0, 820.0, 1100.0, 1000.0, 1100.0, 1000.0,\n",
        "       1000.0])"
      ],
      "execution_count": null,
      "outputs": []
    },
    {
      "cell_type": "code",
      "metadata": {
        "colab": {
          "base_uri": "https://localhost:8080/",
          "height": 279
        },
        "id": "IEK44zttckwH",
        "outputId": "68ec0190-a4fa-4166-f651-10e8fe106399"
      },
      "source": [
        "# 산점도 - 농어\n",
        "import matplotlib.pyplot as plt\n",
        "plt.scatter(perch_length, perch_weight)\n",
        "plt.xlabel('length')\n",
        "plt.ylabel('weight')\n",
        "plt.show()"
      ],
      "execution_count": null,
      "outputs": [
        {
          "output_type": "display_data",
          "data": {
            "image/png": "[encoded data removed]",
            "text/plain": [
              "<Figure size 432x288 with 1 Axes>"
            ]
          },
          "metadata": {
            "tags": [],
            "needs_background": "light"
          }
        }
      ]
    },
    {
      "cell_type": "markdown",
      "metadata": {
        "id": "sGAPMeIRfSG8"
      },
      "source": [
        "## 핵심 패키지와 함수\n",
        "\n",
        "**1) KNeighborsRegressor 패키지**\n",
        "* k-최근접 이웃 회귀 모델을 만드는 사이킷런 클래스\n",
        "* n_neighbors 매개변수로 이웃의 개수 지정함, 기본값 5\n",
        "\n",
        "mean_absolute_error()\n",
        "* 회귀 모델의 평균 절대값 오차를 계산\n",
        "* 첫번째 매개변수 타깃, 두번째 매개변수 예측값\n",
        "\n",
        "mean_squared_error()\n",
        "* 회귀 모델의 평균 제곱 오차를 계산\n",
        "\n",
        "<br>\n",
        "\n",
        "**2) numpy 패키지**\n",
        "\n",
        "train_test_split()\n",
        "* 타깃 데이터를 전달하면 클래스 비율에 맞게 데이터 나눔\n",
        "\n",
        "reshape()\n",
        "* 배열의 크기 변경\n",
        "* 1차원에서 2차원으로 변경 가능"
      ]
    },
    {
      "cell_type": "code",
      "metadata": {
        "id": "NQ6O_HkBc_KG"
      },
      "source": [
        "# 훈련 세트와 테스트 세트 나누기\n",
        "from sklearn.model_selection import train_test_split\n",
        "train_input, test_input, train_target, test_target = train_test_split(perch_length, perch_weight, random_state=42)"
      ],
      "execution_count": null,
      "outputs": []
    },
    {
      "cell_type": "code",
      "metadata": {
        "colab": {
          "base_uri": "https://localhost:8080/"
        },
        "id": "GffVcD6ddkSh",
        "outputId": "e9c5fce8-0a37-45cf-9d8d-5a9a222f9dbf"
      },
      "source": [
        "# 연습) 배열 차원 변환\n",
        "test_array = np.array([1,2,3,4])\n",
        "print(test_array.shape)"
      ],
      "execution_count": null,
      "outputs": [
        {
          "output_type": "stream",
          "text": [
            "(4,)\n"
          ],
          "name": "stdout"
        }
      ]
    },
    {
      "cell_type": "code",
      "metadata": {
        "colab": {
          "base_uri": "https://localhost:8080/"
        },
        "id": "ih3kPwc0eDUk",
        "outputId": "5c6ba9c7-6d46-4895-a107-c1dff992ca22"
      },
      "source": [
        "# 연습) 배열 차원 변환\n",
        "test_array = test_array.reshape(2,2) # reshape() 함수, 배열의 크기를 바꿈\n",
        "print(test_array.shape)"
      ],
      "execution_count": null,
      "outputs": [
        {
          "output_type": "stream",
          "text": [
            "(2, 2)\n"
          ],
          "name": "stdout"
        }
      ]
    },
    {
      "cell_type": "code",
      "metadata": {
        "colab": {
          "base_uri": "https://localhost:8080/"
        },
        "id": "x7Io44ZHeyni",
        "outputId": "c8a09b0e-728d-4a36-8452-002bb7f5d774"
      },
      "source": [
        "train_input = train_input.reshape(-1,1) # -1 나머지 원소 개수로 모두 채우기 \n",
        "test_input = test_input.reshape(-1,1)\n",
        "print(train_input.shape, test_input.shape)"
      ],
      "execution_count": null,
      "outputs": [
        {
          "output_type": "stream",
          "text": [
            "(42, 1) (14, 1)\n"
          ],
          "name": "stdout"
        }
      ]
    },
    {
      "cell_type": "markdown",
      "metadata": {
        "id": "Uv2cmSrSf4YI"
      },
      "source": [
        "## 결정계수($R^2$)\n",
        "\n",
        "정확도\n",
        "* 분류에서 테스트 세트에 있는 샘플을 정확하게 분류한 개수의 비율\n",
        "\n",
        "결정계수\n",
        "* 점수\n",
        "* $1-$$(타깃-예측)^2\\over(타깃-평균)^2$\n",
        "* 타깃이 평균과 가까워지면 -> 0\n",
        "* 타깃이 예측과 가까워지면 -> 1"
      ]
    },
    {
      "cell_type": "markdown",
      "metadata": {
        "id": "mCJNL9Hl_ZGG"
      },
      "source": [
        "## 핵심 패키지와 함수\n",
        "\n",
        "mean_absolute_error()\n",
        "* 타깃과 예측의 절댓값 오차를 평균하여 반환"
      ]
    },
    {
      "cell_type": "code",
      "metadata": {
        "colab": {
          "base_uri": "https://localhost:8080/"
        },
        "id": "SuyUAfCngwWf",
        "outputId": "a4d010d4-fff2-4a5c-cb68-ebbedee7f160"
      },
      "source": [
        "# 모델 생성, 훈련\n",
        "from sklearn.neighbors import KNeighborsRegressor # k-최근접 이웃 회귀 알고리즘\n",
        "knr = KNeighborsRegressor()\n",
        "knr.fit(train_input, train_target)"
      ],
      "execution_count": null,
      "outputs": [
        {
          "output_type": "execute_result",
          "data": {
            "text/plain": [
              "KNeighborsRegressor(algorithm='auto', leaf_size=30, metric='minkowski',\n",
              "                    metric_params=None, n_jobs=None, n_neighbors=5, p=2,\n",
              "                    weights='uniform')"
            ]
          },
          "metadata": {
            "tags": []
          },
          "execution_count": 7
        }
      ]
    },
    {
      "cell_type": "code",
      "metadata": {
        "colab": {
          "base_uri": "https://localhost:8080/"
        },
        "id": "ZZ3dcUFxhGUm",
        "outputId": "cf9ce5d2-b1fc-4a6c-85ba-4fdaf65b3969"
      },
      "source": [
        "# 평가\n",
        "print(knr.score(test_input, test_target))"
      ],
      "execution_count": null,
      "outputs": [
        {
          "output_type": "stream",
          "text": [
            "0.9928094061010639\n"
          ],
          "name": "stdout"
        }
      ]
    },
    {
      "cell_type": "code",
      "metadata": {
        "id": "uuwptrm0-33P"
      },
      "source": [
        "from sklearn.metrics import mean_absolute_error\n",
        "test_prediction = knr.predict(test_input) # 테스트 예측\n",
        "mae = mean_absolute_error(test_target, test_prediction) # 테스트 세트에 대한 평균 절대값 오차 계산, 타깃과 예측한 값 차이"
      ],
      "execution_count": null,
      "outputs": []
    },
    {
      "cell_type": "markdown",
      "metadata": {
        "id": "RV6UXYtUHxEl"
      },
      "source": [
        "## 과대적합 vs 과소적합\n",
        "\n",
        "일반적으로 훈련 세트의 점수가 테스트 세트보다 조금 더 높음\n",
        "\n",
        "과대적합\n",
        "* 훈련 세트와 테스트 세트의 점수를 비교했을 때 훈련 세트 점수가 너무 높은 경우\n",
        "* 모델이 훈련 세트에 과도하게 맞춰진 것\n",
        "\n",
        "과소적합\n",
        "* 훈련 세트와 테스트 세트의 점수를 비교했을 때 테스트 세트 점수가 너무 높거나 모두 낮은 경우\n",
        "* 모델이 너무 단순하여 훈련 세트에 적절히 훈련되지 않은 경우, 훈련 세트와 테스트 세트의 크기가 매우 작은 경우 발생할 수 있음"
      ]
    },
    {
      "cell_type": "code",
      "metadata": {
        "colab": {
          "base_uri": "https://localhost:8080/"
        },
        "id": "FRzvrivEH0Gg",
        "outputId": "2388da20-faed-4027-e0b8-76b3bba801bd"
      },
      "source": [
        "print(knr.score(train_input, train_target))"
      ],
      "execution_count": null,
      "outputs": [
        {
          "output_type": "stream",
          "text": [
            "0.9698823289099255\n"
          ],
          "name": "stdout"
        }
      ]
    },
    {
      "cell_type": "code",
      "metadata": {
        "colab": {
          "base_uri": "https://localhost:8080/"
        },
        "id": "TR0K6AMv5i_F",
        "outputId": "c7a2c554-19d8-4675-b46c-a4356f5024a8"
      },
      "source": [
        "# 과소적합 조정, 모델 훈련\n",
        "knr.n_neighbors = 3  # 이웃의 개수 줄임\n",
        "knr.fit(train_input, train_target)\n",
        "\n",
        "# 평가, 훈련 세트\n",
        "print(knr.score(train_input, train_target))"
      ],
      "execution_count": null,
      "outputs": [
        {
          "output_type": "stream",
          "text": [
            "0.9804899950518966\n"
          ],
          "name": "stdout"
        }
      ]
    },
    {
      "cell_type": "code",
      "metadata": {
        "colab": {
          "base_uri": "https://localhost:8080/"
        },
        "id": "kmLtCJeMnur6",
        "outputId": "7147def4-30f3-4638-d3ec-ab3cf061a278"
      },
      "source": [
        "# 평가, 테스트 세트\n",
        "print(knr.score(test_input, test_target))"
      ],
      "execution_count": null,
      "outputs": [
        {
          "output_type": "stream",
          "text": [
            "0.974645996398761\n"
          ],
          "name": "stdout"
        }
      ]
    },
    {
      "cell_type": "markdown",
      "metadata": {
        "id": "r8VIUr-Oporm"
      },
      "source": [
        "# 3-2. 선형 회귀"
      ]
    },
    {
      "cell_type": "markdown",
      "metadata": {
        "id": "QAqSG5arMFvq"
      },
      "source": [
        "## 선형 회귀\n",
        "* 대표적인 회귀 알고리즘\n",
        "* 특성과 타깃 사이의 관계를 가장 잘 나타내는 선형 방정식을 찾음\n",
        "* 특성이 하나면 직선 방정식을 갖게됨\n",
        "* 선형 회귀가 찾은 특성과 타깃 사이의 관계는 선형 방정식의 계수 또는 가중치에 저장됨\n",
        "* y = a * x + b\n",
        "\n",
        "**모델 파라미터**\n",
        "* 머신러닝 모델이 특성에서 학습한 파라미터를 말함\n",
        "* 많은 머신러닝 알고리즘의 훈련 과정은 최적의 모델 파라미터를 찾는 것과 같음\n",
        "* 이를 모델 기반 학습이라 부름\n",
        "* k-최근접 이웃에는 모델 파라미터가 없음\n",
        "* 이를 사례 기반 학습이라 부름"
      ]
    },
    {
      "cell_type": "code",
      "metadata": {
        "id": "WwYq9ChKG1Fs"
      },
      "source": [
        "# 데이터 준비\n",
        "import numpy as np\n",
        "perch_length = np.array([8.4, 13.7, 15.0, 16.2, 17.4, 18.0, 18.7, 19.0, 19.6, 20.0, 21.0,\n",
        "       21.0, 21.0, 21.3, 22.0, 22.0, 22.0, 22.0, 22.0, 22.5, 22.5, 22.7,\n",
        "       23.0, 23.5, 24.0, 24.0, 24.6, 25.0, 25.6, 26.5, 27.3, 27.5, 27.5,\n",
        "       27.5, 28.0, 28.7, 30.0, 32.8, 34.5, 35.0, 36.5, 36.0, 37.0, 37.0,\n",
        "       39.0, 39.0, 39.0, 40.0, 40.0, 40.0, 40.0, 42.0, 43.0, 43.0, 43.5,\n",
        "       44.0])\n",
        "perch_weight = np.array([5.9, 32.0, 40.0, 51.5, 70.0, 100.0, 78.0, 80.0, 85.0, 85.0, 110.0,\n",
        "       115.0, 125.0, 130.0, 120.0, 120.0, 130.0, 135.0, 110.0, 130.0,\n",
        "       150.0, 145.0, 150.0, 170.0, 225.0, 145.0, 188.0, 180.0, 197.0,\n",
        "       218.0, 300.0, 260.0, 265.0, 250.0, 250.0, 300.0, 320.0, 514.0,\n",
        "       556.0, 840.0, 685.0, 700.0, 700.0, 690.0, 900.0, 650.0, 820.0,\n",
        "       850.0, 900.0, 1015.0, 820.0, 1100.0, 1000.0, 1100.0, 1000.0,\n",
        "       1000.0])"
      ],
      "execution_count": null,
      "outputs": []
    },
    {
      "cell_type": "code",
      "metadata": {
        "id": "UXncH_M6G9Tz"
      },
      "source": [
        "from sklearn.model_selection import train_test_split\n",
        "\n",
        "# 훈련 세트와 테스트 세트 분리\n",
        "train_input, test_input, train_target, test_target = train_test_split(perch_length, perch_weight, random_state=42)\n",
        "\n",
        "# 훈련 세트와 테스트 세트를 2차원 배열로 변경\n",
        "train_input = train_input.reshape(-1,1)\n",
        "test_input = test_input.reshape(-1,1)"
      ],
      "execution_count": null,
      "outputs": []
    },
    {
      "cell_type": "code",
      "metadata": {
        "colab": {
          "base_uri": "https://localhost:8080/"
        },
        "id": "V3N0_JZcHcQS",
        "outputId": "c51f0f07-98f7-4e11-8aca-2889fd511f07"
      },
      "source": [
        "from sklearn.neighbors import KNeighborsRegressor\n",
        "\n",
        "# 최근접 이웃 개수 3으로 조정\n",
        "knr = KNeighborsRegressor(n_neighbors=3)\n",
        "\n",
        "# 모델 훈련\n",
        "knr.fit(train_input, train_target)\n",
        "# 예측\n",
        "print(knr.predict([[50]]))"
      ],
      "execution_count": null,
      "outputs": [
        {
          "output_type": "stream",
          "text": [
            "[1033.33333333]\n"
          ],
          "name": "stdout"
        }
      ]
    },
    {
      "cell_type": "code",
      "metadata": {
        "colab": {
          "base_uri": "https://localhost:8080/",
          "height": 265
        },
        "id": "K1QL2EzOIwCQ",
        "outputId": "cee3b39e-3042-4b47-a2a7-f3ab3503886c"
      },
      "source": [
        "# 산점도\n",
        "import matplotlib.pyplot as plt\n",
        "distances, indexes = knr.kneighbors([[50]]) # 이웃 구하기\n",
        "plt.scatter(train_input, train_target) # 산점도 그리기\n",
        "\n",
        "plt.scatter(train_input[indexes], train_target[indexes], marker='D') # 이웃 샘플만 다시 그림\n",
        "\n",
        "plt.scatter(50, 1033, marker='^') # 50cm 농어 데이터\n",
        "plt.show()"
      ],
      "execution_count": null,
      "outputs": [
        {
          "output_type": "display_data",
          "data": {
            "image/png": "[encoded data removed]",
            "text/plain": [
              "<Figure size 432x288 with 1 Axes>"
            ]
          },
          "metadata": {
            "tags": [],
            "needs_background": "light"
          }
        }
      ]
    },
    {
      "cell_type": "code",
      "metadata": {
        "colab": {
          "base_uri": "https://localhost:8080/"
        },
        "id": "0Cjh1UGXKLyU",
        "outputId": "66d708e2-368f-4ace-ad7b-eaf856d9da17"
      },
      "source": [
        "print(np.mean(train_target[indexes])) # 이웃 샘플들의 무게 평균 \n",
        "print(knr.predict([[100]])) # 샘플이 훈련 세트 범위를 벗어나면 엉뚱한 값 예측"
      ],
      "execution_count": null,
      "outputs": [
        {
          "output_type": "stream",
          "text": [
            "1033.3333333333333\n",
            "[1033.33333333]\n"
          ],
          "name": "stdout"
        }
      ]
    },
    {
      "cell_type": "code",
      "metadata": {
        "colab": {
          "base_uri": "https://localhost:8080/",
          "height": 265
        },
        "id": "rV53GvjsKnCg",
        "outputId": "5aeba943-36fc-44b9-e622-11faee9d545b"
      },
      "source": [
        "distances, indexes = knr.kneighbors([[100]]) # 100cm 농어의 이웃 구함\n",
        "plt.scatter(train_input, train_target) # 훈련 세트 산점도\n",
        "plt.scatter(train_input[indexes], train_target[indexes], marker='D') # 훈련 세트 중 이웃 샘플 산점도\n",
        "plt.scatter(100, 1033, marker='^') #100cm 농어 데이터\n",
        "plt.show()"
      ],
      "execution_count": null,
      "outputs": [
        {
          "output_type": "display_data",
          "data": {
            "image/png": "[encoded data removed]",
            "text/plain": [
              "<Figure size 432x288 with 1 Axes>"
            ]
          },
          "metadata": {
            "tags": [],
            "needs_background": "light"
          }
        }
      ]
    },
    {
      "cell_type": "markdown",
      "metadata": {
        "id": "r3AId3XVMWv7"
      },
      "source": [
        "## 핵심 패키지와 함수\n",
        "\n",
        "**1) sklearn 패키지**\n",
        "\n",
        "LinearRegression 클래스\n",
        "* 선형 회귀 알고리즘\n",
        "\n",
        "coef_\n",
        "* 기울기, 계수, 가중치\n",
        "\n",
        "intercept_\n",
        "* 절편"
      ]
    },
    {
      "cell_type": "code",
      "metadata": {
        "colab": {
          "base_uri": "https://localhost:8080/"
        },
        "id": "nZ-AoJVqM310",
        "outputId": "9655bf59-aa9a-49a0-d354-e51ecc4c4741"
      },
      "source": [
        "from sklearn.linear_model import LinearRegression\n",
        "# 선형 회귀 모델\n",
        "lr = LinearRegression()\n",
        "# 모델 훈련\n",
        "lr.fit(train_input, train_target)\n",
        "# 모델 예측 - 50cm 농어\n",
        "print(lr.predict([[50]]))"
      ],
      "execution_count": null,
      "outputs": [
        {
          "output_type": "stream",
          "text": [
            "[1241.83860323]\n"
          ],
          "name": "stdout"
        }
      ]
    },
    {
      "cell_type": "code",
      "metadata": {
        "colab": {
          "base_uri": "https://localhost:8080/"
        },
        "id": "d4WDhRD2N9nz",
        "outputId": "f60d4384-b583-4ace-f899-ad1aa77f192b"
      },
      "source": [
        "print(lr.coef_, lr.intercept_) # 기울기(coef_), 절편(intercept_) => 모델 파라미터"
      ],
      "execution_count": null,
      "outputs": [
        {
          "output_type": "stream",
          "text": [
            "[39.01714496] -709.0186449535477\n"
          ],
          "name": "stdout"
        }
      ]
    },
    {
      "cell_type": "code",
      "metadata": {
        "colab": {
          "base_uri": "https://localhost:8080/",
          "height": 265
        },
        "id": "BiXwrtg5PAYl",
        "outputId": "10c30b99-afc7-48bf-af16-21a1ef684be4"
      },
      "source": [
        "# 산점도 - 훈련세트\n",
        "plt.scatter(train_input, train_target)\n",
        "# 15에서 50까지 1차 방정식 그래프 생성\n",
        "plt.plot([15, 50], [15*lr.coef_+lr.intercept_, 50*lr.coef_+lr.intercept_])\n",
        "\n",
        "# 산점도 - 5cm 농어\n",
        "plt.scatter(50, 1241.8, marker='^')\n",
        "plt.show()"
      ],
      "execution_count": null,
      "outputs": [
        {
          "output_type": "display_data",
          "data": {
            "image/png": "[encoded data removed]",
            "text/plain": [
              "<Figure size 432x288 with 1 Axes>"
            ]
          },
          "metadata": {
            "tags": [],
            "needs_background": "light"
          }
        }
      ]
    },
    {
      "cell_type": "code",
      "metadata": {
        "colab": {
          "base_uri": "https://localhost:8080/"
        },
        "id": "6AfLgMeqPwVq",
        "outputId": "684e1829-8759-457d-b9c6-cf070adc9a19"
      },
      "source": [
        "# 모델 평가\n",
        "print(lr.score(train_input, train_target)) # 훈련 세트\n",
        "print(lr.score(test_input, test_target)) # 테스트 세트\n",
        "# => 결과, 과소적합, 전체적으로 낮음"
      ],
      "execution_count": null,
      "outputs": [
        {
          "output_type": "stream",
          "text": [
            "0.9398463339976039\n",
            "0.8247503123313558\n"
          ],
          "name": "stdout"
        }
      ]
    },
    {
      "cell_type": "markdown",
      "metadata": {
        "id": "zsruBVa_QU86"
      },
      "source": [
        "## 다항 회귀\n",
        "* 다항식을 사용하여 특성과 타깃 사이의 관계를 나타냄\n",
        "* 다항식을 사용한 선형 회귀\n",
        "* 다항식 : y = a * $x^2$ + b * x + c"
      ]
    },
    {
      "cell_type": "code",
      "metadata": {
        "id": "lEXeEZjuURxp"
      },
      "source": [
        "# 2차 방정식 준비 - 농어 길이 제곱 컬럼 추가\n",
        "train_poly = np.column_stack((train_input ** 2, train_input)) # 훈련 세트\n",
        "test_poly = np.column_stack((test_input ** 2, test_input)) # 테스트 세트"
      ],
      "execution_count": null,
      "outputs": []
    },
    {
      "cell_type": "code",
      "metadata": {
        "colab": {
          "base_uri": "https://localhost:8080/"
        },
        "id": "cOPl6QryUf8z",
        "outputId": "833efbde-7276-44bf-b6e3-29b7a5feae4d"
      },
      "source": [
        "print(train_poly.shape, test_poly.shape)"
      ],
      "execution_count": null,
      "outputs": [
        {
          "output_type": "stream",
          "text": [
            "(42, 2) (14, 2)\n"
          ],
          "name": "stdout"
        }
      ]
    },
    {
      "cell_type": "code",
      "metadata": {
        "colab": {
          "base_uri": "https://localhost:8080/"
        },
        "id": "efQNC-QUU702",
        "outputId": "7d970ce5-c16b-40a3-fb1f-f91c37c8d5fc"
      },
      "source": [
        "# 2차 방정식 모델 생성\n",
        "lr = LinearRegression()\n",
        "# 모델 훈련\n",
        "lr.fit(train_poly, train_target)\n",
        "print(lr.predict([[50**2, 50]]))"
      ],
      "execution_count": null,
      "outputs": [
        {
          "output_type": "stream",
          "text": [
            "[1573.98423528]\n"
          ],
          "name": "stdout"
        }
      ]
    },
    {
      "cell_type": "code",
      "metadata": {
        "colab": {
          "base_uri": "https://localhost:8080/"
        },
        "id": "JGY8FI9cVVYP",
        "outputId": "cbf50293-76ae-4823-98c9-f5208d53bf14"
      },
      "source": [
        "print(lr.coef_, lr.intercept_)\n",
        "# 무게 = 1.01 x 길이^2 - 21.6 x 길이 + 116.05"
      ],
      "execution_count": null,
      "outputs": [
        {
          "output_type": "stream",
          "text": [
            "[  1.01433211 -21.55792498] 116.05021078278276\n"
          ],
          "name": "stdout"
        }
      ]
    },
    {
      "cell_type": "code",
      "metadata": {
        "colab": {
          "base_uri": "https://localhost:8080/",
          "height": 265
        },
        "id": "5sFV6D7UWJrp",
        "outputId": "7f802785-a000-4087-dcb4-9b9e0b8c857d"
      },
      "source": [
        "# 산점도 - 2차 방정식\n",
        "point = np.arange(15, 50) # 구간별 직선을 그리기 위해 15에서 49까지 정수 배열 생성\n",
        "plt.scatter(train_input, train_target) # 훈련 세트 산점도\n",
        "plt.plot(point, 1.01*point**2 - 21.6*point + 116.05) # 15에서 49까지 2차 방정식 그래프 생성\n",
        "\n",
        "# 50cm 농어 데이터\n",
        "plt.scatter([50], [1574], marker='^')\n",
        "plt.show()"
      ],
      "execution_count": null,
      "outputs": [
        {
          "output_type": "display_data",
          "data": {
            "image/png": "[encoded data removed]",
            "text/plain": [
              "<Figure size 432x288 with 1 Axes>"
            ]
          },
          "metadata": {
            "tags": [],
            "needs_background": "light"
          }
        }
      ]
    },
    {
      "cell_type": "code",
      "metadata": {
        "colab": {
          "base_uri": "https://localhost:8080/"
        },
        "id": "oEgUBohnWzJN",
        "outputId": "0d922d66-d6fd-41f7-a687-479447d4f32e"
      },
      "source": [
        "# 모델 평가\n",
        "print(lr.score(train_poly, train_target))\n",
        "print(lr.score(test_poly, test_target))"
      ],
      "execution_count": null,
      "outputs": [
        {
          "output_type": "stream",
          "text": [
            "0.9706807451768623\n",
            "0.9775935108325122\n"
          ],
          "name": "stdout"
        }
      ]
    },
    {
      "cell_type": "markdown",
      "metadata": {
        "id": "Kw9VCb-4YFYQ"
      },
      "source": [
        "# 3-3. 특성 공학과 규제"
      ]
    },
    {
      "cell_type": "markdown",
      "metadata": {
        "id": "SrIMNc_6YJwE"
      },
      "source": [
        "## 다중 회귀\n",
        "* 여러 개의 특성을 사용한 선형 회귀\n",
        "* 특성이 많으면 선형 모델은 강력한 성능 발휘\n",
        "* 직선이 아닌 평면을 학습함\n",
        "* 특성 2개 : y(타깃) = a * x1(특성1) + b * x2(특성2) + c(절편)\n",
        "\n",
        "**특성 공학**\n",
        "* 기존의 특성을 사용해 새로운 특성을 뽑아내는 작업\n",
        "* ex) 농어 길이 * 농어 높이 = 새로운 특성"
      ]
    },
    {
      "cell_type": "markdown",
      "metadata": {
        "id": "OOviiowCZ99L"
      },
      "source": [
        "## 핵심 패키지와 함수\n",
        "\n",
        "**1) pandas(판다스)**\n",
        "* 유명한 데이터 분석 라이브러리\n",
        "* 데이터프레임이 핵심 구조\n",
        "* 데이터 다운 받아 사용 가능\n",
        "* 데이터프레임 -> 넘파이 배열 쉽게 변환 가능\n",
        "\n",
        "**2) sklearn**\n",
        "\n",
        "PolynomialFeatures\n",
        "* transformer(변환기) 클래스 중 하나\n",
        "* 특성을 만들거나 전처리하기 위한 클래스\n",
        "* 기본적으로 각 특성을 제곱한 항을 추가하고 특성끼리 서로 곱한 항을 추가함"
      ]
    },
    {
      "cell_type": "code",
      "metadata": {
        "colab": {
          "base_uri": "https://localhost:8080/"
        },
        "id": "KoX7CKBaZ5kw",
        "outputId": "0098898b-5a1c-4a27-99d4-33daf139ef37"
      },
      "source": [
        "import pandas as pd # 관례적으로 사용하는 판다스 별칭 pd\n",
        "# 입력 데이터 다운로드\n",
        "df = pd.read_csv('https://bit.ly/perch_csv')\n",
        "perch_full = df.to_numpy()\n",
        "print(perch_full)"
      ],
      "execution_count": null,
      "outputs": [
        {
          "output_type": "stream",
          "text": [
            "[[ 8.4   2.11  1.41]\n",
            " [13.7   3.53  2.  ]\n",
            " [15.    3.82  2.43]\n",
            " [16.2   4.59  2.63]\n",
            " [17.4   4.59  2.94]\n",
            " [18.    5.22  3.32]\n",
            " [18.7   5.2   3.12]\n",
            " [19.    5.64  3.05]\n",
            " [19.6   5.14  3.04]\n",
            " [20.    5.08  2.77]\n",
            " [21.    5.69  3.56]\n",
            " [21.    5.92  3.31]\n",
            " [21.    5.69  3.67]\n",
            " [21.3   6.38  3.53]\n",
            " [22.    6.11  3.41]\n",
            " [22.    5.64  3.52]\n",
            " [22.    6.11  3.52]\n",
            " [22.    5.88  3.52]\n",
            " [22.    5.52  4.  ]\n",
            " [22.5   5.86  3.62]\n",
            " [22.5   6.79  3.62]\n",
            " [22.7   5.95  3.63]\n",
            " [23.    5.22  3.63]\n",
            " [23.5   6.28  3.72]\n",
            " [24.    7.29  3.72]\n",
            " [24.    6.38  3.82]\n",
            " [24.6   6.73  4.17]\n",
            " [25.    6.44  3.68]\n",
            " [25.6   6.56  4.24]\n",
            " [26.5   7.17  4.14]\n",
            " [27.3   8.32  5.14]\n",
            " [27.5   7.17  4.34]\n",
            " [27.5   7.05  4.34]\n",
            " [27.5   7.28  4.57]\n",
            " [28.    7.82  4.2 ]\n",
            " [28.7   7.59  4.64]\n",
            " [30.    7.62  4.77]\n",
            " [32.8  10.03  6.02]\n",
            " [34.5  10.26  6.39]\n",
            " [35.   11.49  7.8 ]\n",
            " [36.5  10.88  6.86]\n",
            " [36.   10.61  6.74]\n",
            " [37.   10.84  6.26]\n",
            " [37.   10.57  6.37]\n",
            " [39.   11.14  7.49]\n",
            " [39.   11.14  6.  ]\n",
            " [39.   12.43  7.35]\n",
            " [40.   11.93  7.11]\n",
            " [40.   11.73  7.22]\n",
            " [40.   12.38  7.46]\n",
            " [40.   11.14  6.63]\n",
            " [42.   12.8   6.87]\n",
            " [43.   11.93  7.28]\n",
            " [43.   12.51  7.42]\n",
            " [43.5  12.6   8.14]\n",
            " [44.   12.49  7.6 ]]\n"
          ],
          "name": "stdout"
        }
      ]
    },
    {
      "cell_type": "code",
      "metadata": {
        "id": "EivoMoGGbGUR"
      },
      "source": [
        "import numpy as np\n",
        "# 타깃 데이터\n",
        "perch_weight = np.array([5.9, 32.0, 40.0, 51.5, 70.0, 100.0, 78.0, 80.0, 85.0, 85.0, 110.0,\n",
        "       115.0, 125.0, 130.0, 120.0, 120.0, 130.0, 135.0, 110.0, 130.0,\n",
        "       150.0, 145.0, 150.0, 170.0, 225.0, 145.0, 188.0, 180.0, 197.0,\n",
        "       218.0, 300.0, 260.0, 265.0, 250.0, 250.0, 300.0, 320.0, 514.0,\n",
        "       556.0, 840.0, 685.0, 700.0, 700.0, 690.0, 900.0, 650.0, 820.0,\n",
        "       850.0, 900.0, 1015.0, 820.0, 1100.0, 1000.0, 1100.0, 1000.0,\n",
        "       1000.0])"
      ],
      "execution_count": null,
      "outputs": []
    },
    {
      "cell_type": "code",
      "metadata": {
        "id": "h0DN9rF_bSCh"
      },
      "source": [
        "# 훈련 세트, 테스트 세트로 나눔\n",
        "from sklearn.model_selection import train_test_split\n",
        "train_input, test_input, train_target, test_target = train_test_split(perch_full, perch_weight, random_state=42)"
      ],
      "execution_count": null,
      "outputs": []
    },
    {
      "cell_type": "code",
      "metadata": {
        "colab": {
          "base_uri": "https://localhost:8080/"
        },
        "id": "wO8OzZAIcLB6",
        "outputId": "a1dfac97-060c-47eb-c7df-b975abd83aa4"
      },
      "source": [
        "# 변환기 클래스\n",
        "from sklearn.preprocessing import PolynomialFeatures\n",
        "# 모델 생성\n",
        "poly = PolynomialFeatures()\n",
        "# 모델 훈련\n",
        "poly.fit([[2,3]]) # 2개의 특성 적용, 변환하는데 타깃 데이터는 필요 없음\n",
        "# 변환\n",
        "print(poly.transform([[2,3]]))"
      ],
      "execution_count": null,
      "outputs": [
        {
          "output_type": "stream",
          "text": [
            "[[1. 2. 3. 4. 6. 9.]]\n"
          ],
          "name": "stdout"
        }
      ]
    },
    {
      "cell_type": "code",
      "metadata": {
        "colab": {
          "base_uri": "https://localhost:8080/"
        },
        "id": "hyI8ucYlh-VP",
        "outputId": "fc5956a0-9c83-4406-c9c1-3cccff55a856"
      },
      "source": [
        "poly = PolynomialFeatures(include_bias=False) # 1 제외\n",
        "poly.fit([[2,3]])\n",
        "print(poly.transform([[2,3]]))"
      ],
      "execution_count": null,
      "outputs": [
        {
          "output_type": "stream",
          "text": [
            "[[2. 3. 4. 6. 9.]]\n"
          ],
          "name": "stdout"
        }
      ]
    },
    {
      "cell_type": "code",
      "metadata": {
        "colab": {
          "base_uri": "https://localhost:8080/"
        },
        "id": "INEFSvcbiQtu",
        "outputId": "febd9bc6-93cb-4ad2-b0c5-834913f2ed54"
      },
      "source": [
        "# 모델 생성\n",
        "poly = PolynomialFeatures(include_bias=False)\n",
        "# 모델 훈련\n",
        "poly.fit(train_input)\n",
        "# 변환\n",
        "train_poly = poly.transform(train_input)\n",
        "print(train_poly.shape)"
      ],
      "execution_count": null,
      "outputs": [
        {
          "output_type": "stream",
          "text": [
            "(42, 9)\n"
          ],
          "name": "stdout"
        }
      ]
    },
    {
      "cell_type": "code",
      "metadata": {
        "colab": {
          "base_uri": "https://localhost:8080/"
        },
        "id": "JMUVp0Lgie7V",
        "outputId": "f2c51c11-71ae-4ecd-c279-97f3fef6027e"
      },
      "source": [
        "poly.get_feature_names() # 특성이 어떤 조합으로 만들어졌는지 알려주는 함수"
      ],
      "execution_count": null,
      "outputs": [
        {
          "output_type": "execute_result",
          "data": {
            "text/plain": [
              "['x0', 'x1', 'x2', 'x0^2', 'x0 x1', 'x0 x2', 'x1^2', 'x1 x2', 'x2^2']"
            ]
          },
          "metadata": {
            "tags": []
          },
          "execution_count": 35
        }
      ]
    },
    {
      "cell_type": "code",
      "metadata": {
        "id": "2kOgbhK4i1GR"
      },
      "source": [
        "# 변환 - 테스트 세트\n",
        "test_poly = poly.transform(test_input)"
      ],
      "execution_count": null,
      "outputs": []
    },
    {
      "cell_type": "code",
      "metadata": {
        "colab": {
          "base_uri": "https://localhost:8080/"
        },
        "id": "zBeXvlqtjBWn",
        "outputId": "edfc478b-603b-4d28-ade5-202ea6c52d05"
      },
      "source": [
        "# 모델 훈련 - 다중 회귀\n",
        "from sklearn.linear_model import LinearRegression\n",
        "lr = LinearRegression()\n",
        "lr.fit(train_poly, train_target)\n",
        "\n",
        "# 평가 - 훈련 세트\n",
        "print(lr.score(train_poly, train_target))\n",
        "# 평가 - 테스트 세트\n",
        "print(lr.score(test_poly, test_target))"
      ],
      "execution_count": null,
      "outputs": [
        {
          "output_type": "stream",
          "text": [
            "0.9903183436982124\n",
            "0.9714559911594132\n"
          ],
          "name": "stdout"
        }
      ]
    },
    {
      "cell_type": "code",
      "metadata": {
        "colab": {
          "base_uri": "https://localhost:8080/"
        },
        "id": "jmUhVHImjvM2",
        "outputId": "b5600db8-4ec5-4d5f-b5ca-c5696a7c276b"
      },
      "source": [
        "# 모델 생성 - 고차항\n",
        "poly = PolynomialFeatures(degree=5, include_bias=False)\n",
        "poly.fit(train_input)\n",
        "train_poly = poly.transform(train_input)\n",
        "test_poly = poly.transform(test_input)\n",
        "\n",
        "print(train_poly.shape) # 특성 개수 55개"
      ],
      "execution_count": null,
      "outputs": [
        {
          "output_type": "stream",
          "text": [
            "(42, 55)\n"
          ],
          "name": "stdout"
        }
      ]
    },
    {
      "cell_type": "code",
      "metadata": {
        "colab": {
          "base_uri": "https://localhost:8080/"
        },
        "id": "mYy4jdnwkjp8",
        "outputId": "75f21cdc-c6c9-4a9c-d3e9-e8ddcfbb0fc0"
      },
      "source": [
        "# 모델 훈련 - 특성 개수 매우 많은\n",
        "lr.fit(train_poly, train_target)\n",
        "# 평가 - 훈련 세트\n",
        "print(lr.score(train_poly, train_target))\n",
        "# 평가 - 테스트 세트\n",
        "print(lr.score(test_poly, test_target)) # 음수 => 훈련 세트에 과대 적합"
      ],
      "execution_count": null,
      "outputs": [
        {
          "output_type": "stream",
          "text": [
            "0.9999999999991096\n",
            "-144.40579242335605\n"
          ],
          "name": "stdout"
        }
      ]
    },
    {
      "cell_type": "markdown",
      "metadata": {
        "id": "bj_0ZrZDlZ3m"
      },
      "source": [
        "## 규제\n",
        "* 머신 러닝 모델이 훈련 세트를 너무 과도하게 학습하지 못하도록 하는 것\n",
        "* 모델이 훈련 세트에 과대적합되지 않도록 만드는 것\n",
        "* 선형 모델의 경우, 특성에 곱해지는 계수(기울기)의 크기를 작게 만듬\n",
        "* 선형 회귀 모델에 규제를 추가한 모델을 **릿지**, **라쏘**라고 함\n",
        "\n",
        "**릿지(ridge)**\n",
        "* 계수를 제곱한 값을 기준으로 규제를 적용\n",
        "* 선형 모델의 계수를 작게 만들어 과대적합을 완화시킴\n",
        "\n",
        "**라쏘(lasso)**\n",
        "* 계수의 절댓값을 기준으로 규제를 적용\n",
        "* 유용한 특성을 골라내는 용도로도 사용 가능\n",
        "* 릿지와 달리 계수 값을 아예 0으로 만들 수도 있음\n",
        "\n",
        "**적잘한 규제를 적용하는 법**\n",
        "* 규제의 양을 임의로 조절 가능함, alpha 매개변수로 조절\n",
        "* 적절한 alpha 값 찾는 법은 alpha값에 대한 $R^2$값의 그래프를 그려보는 것\n",
        "* 훈련 세트와 테스트 세트의 점수가 가장 가까운 지점이 최적의 alpha 값\n",
        "\n",
        "**하이파라미터**\n",
        "* 머신러닝 알고리즘이 학습하지 않는 파라미터\n",
        "* 사람이 사전에 지정해야함\n",
        "* 대표적으로 릿지와 라쏘의 규제 강도 alpha 파라미터가 있음"
      ]
    },
    {
      "cell_type": "markdown",
      "metadata": {
        "id": "EBV8VHaXeu4m"
      },
      "source": [
        "## 핵심 패키지와 함수\n",
        "\n",
        "1) scikit-learn 패키지\n",
        "\n",
        "PolynomialFeatures\n",
        "* 주어진 특성을 조합하여 새로운 특성 생성\n",
        "\n",
        "Ridge\n",
        "* 릿지 회귀 모델 훈련\n",
        "* alpha 매개변수로 규제 강도 조절. 값이 클수록 규제가 강해짐. 기본값은 1\n",
        "* solver 매개변수에 최적의 모델을 찾기 위한 방법 지정 가능\n",
        "\n",
        "Lasso\n",
        "* 라쏘 회귀 모델 훈련\n",
        "* 최적의 모델을 찾기 위해 좌표축을 따라 최적화를 수행해가는 좌표 하강법 사용\n",
        "* max_iter 알고리즘의 수행 반복 횟수 지정. 기본값 1000"
      ]
    },
    {
      "cell_type": "code",
      "metadata": {
        "id": "scJT3ef4lzBm"
      },
      "source": [
        "# 변환 - 표준점수, 규제 적용 전 정규화\n",
        "from sklearn.preprocessing import StandardScaler\n",
        "ss = StandardScaler()\n",
        "ss.fit(train_poly)\n",
        "train_scaled = ss.transform(train_poly) # 훈련 세트 변환 -> 표준 점수로 변환\n",
        "test_scaled = ss.transform(test_poly) # 테스트 세트 변환"
      ],
      "execution_count": null,
      "outputs": []
    },
    {
      "cell_type": "code",
      "metadata": {
        "colab": {
          "base_uri": "https://localhost:8080/"
        },
        "id": "cWHwI_2SnQE8",
        "outputId": "7c595003-bdec-42ef-dfb0-c11f27571918"
      },
      "source": [
        "# 릿지 회귀\n",
        "from sklearn.linear_model import Ridge\n",
        "ridge = Ridge()\n",
        "ridge.fit(train_scaled, train_target)\n",
        "print(ridge.score(train_scaled, train_target)) # 훈련 세트\n",
        "print(ridge.score(test_scaled, test_target)) # 테스트 세트 => 정상으로 돌아옴"
      ],
      "execution_count": null,
      "outputs": [
        {
          "output_type": "stream",
          "text": [
            "0.9896101671037343\n",
            "0.9790693977615398\n"
          ],
          "name": "stdout"
        }
      ]
    },
    {
      "cell_type": "code",
      "metadata": {
        "id": "jTD_WKv5pQlq"
      },
      "source": [
        "import matplotlib.pyplot as plt\n",
        "train_score = []\n",
        "test_score = []\n",
        "\n",
        "alpha_list = [0.001, 0.01, 0.1, 1, 10, 100]\n",
        "for alpha in alpha_list: # alpha 값을 늘려가며 릿지 회귀 모델을 훈련\n",
        "  ridge = Ridge(alpha=alpha) # 릿지 모델 생성\n",
        "  ridge.fit(train_scaled, train_target) # 릿지 모델 훈련\n",
        "  # 훈련 점수과 테스트 점수 저장\n",
        "  train_score.append(ridge.score(train_scaled, train_target))\n",
        "  test_score.append(ridge.score(test_scaled, test_target))"
      ],
      "execution_count": null,
      "outputs": []
    },
    {
      "cell_type": "code",
      "metadata": {
        "colab": {
          "base_uri": "https://localhost:8080/",
          "height": 265
        },
        "id": "MqVf175lqTAj",
        "outputId": "b16bf1b3-5e57-4b31-eeca-04f76917e66e"
      },
      "source": [
        "# 그래프 생성\n",
        "plt.plot(np.log10(alpha_list), train_score)\n",
        "plt.plot(np.log10(alpha_list), test_score)\n",
        "plt.show()\n",
        "# 점수 차이가 매우 큼 => alpha 값을 0.1로 하여 모델 훈련"
      ],
      "execution_count": null,
      "outputs": [
        {
          "output_type": "display_data",
          "data": {
            "image/png": "[encoded data removed]",
            "text/plain": [
              "<Figure size 432x288 with 1 Axes>"
            ]
          },
          "metadata": {
            "tags": [],
            "needs_background": "light"
          }
        }
      ]
    },
    {
      "cell_type": "code",
      "metadata": {
        "colab": {
          "base_uri": "https://localhost:8080/"
        },
        "id": "ibLNxh6Vu_-s",
        "outputId": "b6401346-ca2f-4e71-9a61-be1feca7cca5"
      },
      "source": [
        "# 모델 생성 - 규제\n",
        "ridge = Ridge(alpha=0.1) # 규제 alpha값 적용\n",
        "# 모델 훈련\n",
        "ridge.fit(train_scaled, train_target)\n",
        "# 평가\n",
        "print(ridge.score(train_scaled, train_target))\n",
        "print(ridge.score(test_scaled, test_target))"
      ],
      "execution_count": null,
      "outputs": [
        {
          "output_type": "stream",
          "text": [
            "0.9903815817570366\n",
            "0.9827976465386927\n"
          ],
          "name": "stdout"
        }
      ]
    },
    {
      "cell_type": "code",
      "metadata": {
        "colab": {
          "base_uri": "https://localhost:8080/"
        },
        "id": "QuVtHtGlvkeH",
        "outputId": "69391c41-89e3-4271-e7d4-876ae08547da"
      },
      "source": [
        "# 릿쏘 회귀\n",
        "from sklearn.linear_model import Lasso\n",
        "lasso = Lasso()\n",
        "lasso.fit(train_scaled, train_target)\n",
        "print(lasso.score(train_scaled, train_target)) # 훈련 세트\n",
        "print(lasso.score(test_scaled, test_target)) # 테스트 세트"
      ],
      "execution_count": null,
      "outputs": [
        {
          "output_type": "stream",
          "text": [
            "0.9897898972080961\n",
            "0.9800593698421883\n"
          ],
          "name": "stdout"
        }
      ]
    },
    {
      "cell_type": "code",
      "metadata": {
        "colab": {
          "base_uri": "https://localhost:8080/"
        },
        "id": "DAizGczsWgZC",
        "outputId": "cec81cc6-15cd-4de6-bd0a-63716e450cc6"
      },
      "source": [
        "train_score = []\n",
        "test_score = []\n",
        "alpha_list = [0.001, 0.01, 0.1, 1, 10, 100]\n",
        "for alpha in alpha_list:\n",
        "  lasso = Lasso(alpha=alpha, max_iter=10000)\n",
        "  lasso.fit(train_scaled, train_target)\n",
        "  train_score.append(lasso.score(train_scaled, train_target))\n",
        "  test_score.append(lasso.score(test_scaled, test_target))"
      ],
      "execution_count": null,
      "outputs": [
        {
          "output_type": "stream",
          "text": [
            "/usr/local/lib/python3.7/dist-packages/sklearn/linear_model/_coordinate_descent.py:476: ConvergenceWarning: Objective did not converge. You might want to increase the number of iterations. Duality gap: 18778.697957792876, tolerance: 518.2793833333334\n",
            "  positive)\n",
            "/usr/local/lib/python3.7/dist-packages/sklearn/linear_model/_coordinate_descent.py:476: ConvergenceWarning: Objective did not converge. You might want to increase the number of iterations. Duality gap: 12972.821345404844, tolerance: 518.2793833333334\n",
            "  positive)\n"
          ],
          "name": "stderr"
        }
      ]
    },
    {
      "cell_type": "code",
      "metadata": {
        "colab": {
          "base_uri": "https://localhost:8080/",
          "height": 265
        },
        "id": "1uhDCox9XuQW",
        "outputId": "757554e5-ecd1-4804-dfce-f80f97b8798c"
      },
      "source": [
        "plt.plot(np.log10(alpha_list), train_score) # x축 로그 스케일로 변경\n",
        "plt.plot(np.log10(alpha_list), test_score)\n",
        "plt.show()\n",
        "# 왼쪽 과대적합 오른쪽 과소적합, 1지점 최적, 최적 alpha값은 10(=10^1)"
      ],
      "execution_count": null,
      "outputs": [
        {
          "output_type": "display_data",
          "data": {
            "image/png": "[encoded data removed]",
            "text/plain": [
              "<Figure size 432x288 with 1 Axes>"
            ]
          },
          "metadata": {
            "tags": [],
            "needs_background": "light"
          }
        }
      ]
    },
    {
      "cell_type": "code",
      "metadata": {
        "colab": {
          "base_uri": "https://localhost:8080/"
        },
        "id": "aBB4SkGAZ3zd",
        "outputId": "b18c6a43-fbfb-4152-a3fd-e2314c2d9011"
      },
      "source": [
        "lasso = Lasso(alpha=10)\n",
        "lasso.fit(train_scaled, train_target)\n",
        "print(lasso.score(train_scaled, train_target))\n",
        "print(lasso.score(test_scaled, test_target))"
      ],
      "execution_count": null,
      "outputs": [
        {
          "output_type": "stream",
          "text": [
            "0.9888067471131867\n",
            "0.9824470598706695\n"
          ],
          "name": "stdout"
        }
      ]
    },
    {
      "cell_type": "code",
      "metadata": {
        "colab": {
          "base_uri": "https://localhost:8080/"
        },
        "id": "zVmSywGAa38i",
        "outputId": "f5d153c7-7787-4066-dfde-135b93743c5f"
      },
      "source": [
        "print(np.sum(lasso.coef_ == 0)) # np.sum() True는 1, False는 0으로 인식\n",
        "# 55개 특성을 주입했지만 라쏘 모델이 사용한 특성 15개"
      ],
      "execution_count": null,
      "outputs": [
        {
          "output_type": "stream",
          "text": [
            "40\n"
          ],
          "name": "stdout"
        }
      ]
    }
  ]
}