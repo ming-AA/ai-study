{
  "nbformat": 4,
  "nbformat_minor": 0,
  "metadata": {
    "colab": {
      "name": "Chap4.ipynb",
      "provenance": [],
      "collapsed_sections": [],
      "toc_visible": true,
      "authorship_tag": "ABX9TyNMCybeTklw1wrO1xO7sH+k",
      "include_colab_link": true
    },
    "kernelspec": {
      "name": "python3",
      "display_name": "Python 3"
    }
  },
  "cells": [
    {
      "cell_type": "markdown",
      "metadata": {
        "id": "view-in-github",
        "colab_type": "text"
      },
      "source": [
        "<a href=\"https://colab.research.google.com/github/ming-AA/ai-study/blob/main/Chap4.ipynb\" target=\"_parent\"><img src=\"https://colab.research.google.com/assets/colab-badge.svg\" alt=\"Open In Colab\"/></a>"
      ]
    },
    {
      "cell_type": "markdown",
      "metadata": {
        "id": "1SzTQlMwz_Sw"
      },
      "source": [
        "# Chap4. 다양한 분류 알고리즘"
      ]
    },
    {
      "cell_type": "markdown",
      "metadata": {
        "id": "NZr5blig0dwj"
      },
      "source": [
        "# 4-1. 로지스틱 회귀"
      ]
    },
    {
      "cell_type": "code",
      "metadata": {
        "colab": {
          "base_uri": "https://localhost:8080/",
          "height": 204
        },
        "id": "h8UZdK03gOIN",
        "outputId": "d5f05fd6-8eca-4d0a-d76f-f7d8d77b238a"
      },
      "source": [
        "# 데이터 준비\n",
        "import pandas as pd\n",
        "fish = pd.read_csv('https://bit.ly/fish_csv')\n",
        "fish.head()"
      ],
      "execution_count": null,
      "outputs": [
        {
          "output_type": "execute_result",
          "data": {
            "text/html": [
              "<div>\n",
              "<style scoped>\n",
              "    .dataframe tbody tr th:only-of-type {\n",
              "        vertical-align: middle;\n",
              "    }\n",
              "\n",
              "    .dataframe tbody tr th {\n",
              "        vertical-align: top;\n",
              "    }\n",
              "\n",
              "    .dataframe thead th {\n",
              "        text-align: right;\n",
              "    }\n",
              "</style>\n",
              "<table border=\"1\" class=\"dataframe\">\n",
              "  <thead>\n",
              "    <tr style=\"text-align: right;\">\n",
              "      <th></th>\n",
              "      <th>Species</th>\n",
              "      <th>Weight</th>\n",
              "      <th>Length</th>\n",
              "      <th>Diagonal</th>\n",
              "      <th>Height</th>\n",
              "      <th>Width</th>\n",
              "    </tr>\n",
              "  </thead>\n",
              "  <tbody>\n",
              "    <tr>\n",
              "      <th>0</th>\n",
              "      <td>Bream</td>\n",
              "      <td>242.0</td>\n",
              "      <td>25.4</td>\n",
              "      <td>30.0</td>\n",
              "      <td>11.5200</td>\n",
              "      <td>4.0200</td>\n",
              "    </tr>\n",
              "    <tr>\n",
              "      <th>1</th>\n",
              "      <td>Bream</td>\n",
              "      <td>290.0</td>\n",
              "      <td>26.3</td>\n",
              "      <td>31.2</td>\n",
              "      <td>12.4800</td>\n",
              "      <td>4.3056</td>\n",
              "    </tr>\n",
              "    <tr>\n",
              "      <th>2</th>\n",
              "      <td>Bream</td>\n",
              "      <td>340.0</td>\n",
              "      <td>26.5</td>\n",
              "      <td>31.1</td>\n",
              "      <td>12.3778</td>\n",
              "      <td>4.6961</td>\n",
              "    </tr>\n",
              "    <tr>\n",
              "      <th>3</th>\n",
              "      <td>Bream</td>\n",
              "      <td>363.0</td>\n",
              "      <td>29.0</td>\n",
              "      <td>33.5</td>\n",
              "      <td>12.7300</td>\n",
              "      <td>4.4555</td>\n",
              "    </tr>\n",
              "    <tr>\n",
              "      <th>4</th>\n",
              "      <td>Bream</td>\n",
              "      <td>430.0</td>\n",
              "      <td>29.0</td>\n",
              "      <td>34.0</td>\n",
              "      <td>12.4440</td>\n",
              "      <td>5.1340</td>\n",
              "    </tr>\n",
              "  </tbody>\n",
              "</table>\n",
              "</div>"
            ],
            "text/plain": [
              "  Species  Weight  Length  Diagonal   Height   Width\n",
              "0   Bream   242.0    25.4      30.0  11.5200  4.0200\n",
              "1   Bream   290.0    26.3      31.2  12.4800  4.3056\n",
              "2   Bream   340.0    26.5      31.1  12.3778  4.6961\n",
              "3   Bream   363.0    29.0      33.5  12.7300  4.4555\n",
              "4   Bream   430.0    29.0      34.0  12.4440  5.1340"
            ]
          },
          "metadata": {
            "tags": []
          },
          "execution_count": 1
        }
      ]
    },
    {
      "cell_type": "code",
      "metadata": {
        "colab": {
          "base_uri": "https://localhost:8080/"
        },
        "id": "-IpKrD-kgnwt",
        "outputId": "1074382b-c869-4ee0-e5ab-49ce059f7c4f"
      },
      "source": [
        "print(pd.unique(fish['Species']))"
      ],
      "execution_count": null,
      "outputs": [
        {
          "output_type": "stream",
          "text": [
            "['Bream' 'Roach' 'Whitefish' 'Parkki' 'Perch' 'Pike' 'Smelt']\n"
          ],
          "name": "stdout"
        }
      ]
    },
    {
      "cell_type": "code",
      "metadata": {
        "colab": {
          "base_uri": "https://localhost:8080/"
        },
        "id": "zVIHyRGKgr_o",
        "outputId": "fe637238-81fa-459b-90e3-bc4156ff643e"
      },
      "source": [
        "# 입력 데이터 생성\n",
        "fish_input = fish[['Weight', 'Length', 'Diagonal', 'Height', 'Width']].to_numpy()\n",
        "print(fish_input[:5])"
      ],
      "execution_count": null,
      "outputs": [
        {
          "output_type": "stream",
          "text": [
            "[[242.      25.4     30.      11.52     4.02  ]\n",
            " [290.      26.3     31.2     12.48     4.3056]\n",
            " [340.      26.5     31.1     12.3778   4.6961]\n",
            " [363.      29.      33.5     12.73     4.4555]\n",
            " [430.      29.      34.      12.444    5.134 ]]\n"
          ],
          "name": "stdout"
        }
      ]
    },
    {
      "cell_type": "code",
      "metadata": {
        "id": "HTUf1ti8hpez"
      },
      "source": [
        "# 타깃 데이터 생성\n",
        "fish_target = fish['Species'].to_numpy()"
      ],
      "execution_count": null,
      "outputs": []
    },
    {
      "cell_type": "code",
      "metadata": {
        "id": "9wvOo0Uvc_rT"
      },
      "source": [
        "# 훈련 세트 테스트 세트 나누기\n",
        "from sklearn.model_selection import train_test_split\n",
        "train_input, test_input, train_target, test_target = train_test_split(fish_input, fish_target, random_state=42)"
      ],
      "execution_count": null,
      "outputs": []
    },
    {
      "cell_type": "code",
      "metadata": {
        "id": "do6kacNLdbr4"
      },
      "source": [
        "# 데이터 전처리 - 표준화\n",
        "from sklearn.preprocessing import StandardScaler\n",
        "ss = StandardScaler()\n",
        "ss.fit(train_input)\n",
        "train_scaled = ss.transform(train_input)\n",
        "test_scaled = ss.transform(test_input)"
      ],
      "execution_count": null,
      "outputs": []
    },
    {
      "cell_type": "code",
      "metadata": {
        "id": "splymOOCd0Tp",
        "colab": {
          "base_uri": "https://localhost:8080/"
        },
        "outputId": "861b17da-403f-41fd-a4aa-6e4af070e476"
      },
      "source": [
        "from sklearn.neighbors import KNeighborsClassifier\n",
        "# k-최근접 이웃 모델 생성\n",
        "kn = KNeighborsClassifier(n_neighbors=3) # 이웃 개수 3\n",
        "# 훈련\n",
        "kn.fit(train_scaled, train_target)\n",
        "# 평가\n",
        "print(kn.score(train_scaled, train_target))\n",
        "print(kn.score(test_scaled, test_target))"
      ],
      "execution_count": null,
      "outputs": [
        {
          "output_type": "stream",
          "text": [
            "0.8907563025210085\n",
            "0.85\n"
          ],
          "name": "stdout"
        }
      ]
    },
    {
      "cell_type": "code",
      "metadata": {
        "colab": {
          "base_uri": "https://localhost:8080/"
        },
        "id": "yZqxxIoc00Mz",
        "outputId": "73325279-7037-4ee8-cc12-3c02beb7fc17"
      },
      "source": [
        "print(kn.classes_) # KNeighborsClassifier에 정렬된 타깃값 출력, classes_ 속성"
      ],
      "execution_count": null,
      "outputs": [
        {
          "output_type": "stream",
          "text": [
            "['Bream' 'Parkki' 'Perch' 'Pike' 'Roach' 'Smelt' 'Whitefish']\n"
          ],
          "name": "stdout"
        }
      ]
    },
    {
      "cell_type": "code",
      "metadata": {
        "colab": {
          "base_uri": "https://localhost:8080/"
        },
        "id": "Qtw_s4Cf1Cvc",
        "outputId": "40f82627-b439-4a00-b2c3-cc38bf729a13"
      },
      "source": [
        "print(kn.predict(test_scaled[:5])) # 테스트 세트에 있는 처음 5개 샘플의 타깃값 예측"
      ],
      "execution_count": null,
      "outputs": [
        {
          "output_type": "stream",
          "text": [
            "['Perch' 'Smelt' 'Pike' 'Perch' 'Perch']\n"
          ],
          "name": "stdout"
        }
      ]
    },
    {
      "cell_type": "code",
      "metadata": {
        "colab": {
          "base_uri": "https://localhost:8080/"
        },
        "id": "TwHCd4Uf1TG8",
        "outputId": "592d1288-03b6-4c0a-abf4-95d6d729f9fb"
      },
      "source": [
        "import numpy as np\n",
        "proba = kn.predict_proba(test_scaled[:5]) # predict_proba() 클래스별 확률값 반환, 처음 5개 샘플에 대한 확률\n",
        "print(np.round(proba, decimals=4)) # dicimals 소수점 네번째 자리까지 반올림하여 표기\n",
        "# 결과 각각의 종에 대한 확률"
      ],
      "execution_count": null,
      "outputs": [
        {
          "output_type": "stream",
          "text": [
            "[[0.     0.     1.     0.     0.     0.     0.    ]\n",
            " [0.     0.     0.     0.     0.     1.     0.    ]\n",
            " [0.     0.     0.     1.     0.     0.     0.    ]\n",
            " [0.     0.     0.6667 0.     0.3333 0.     0.    ]\n",
            " [0.     0.     0.6667 0.     0.3333 0.     0.    ]]\n"
          ],
          "name": "stdout"
        }
      ]
    },
    {
      "cell_type": "code",
      "metadata": {
        "colab": {
          "base_uri": "https://localhost:8080/"
        },
        "id": "J4c-bw7h2DZ_",
        "outputId": "97b9220d-4519-45cb-accd-492898b76727"
      },
      "source": [
        "distances, indexes = kn.kneighbors(test_scaled[3:4])\n",
        "print(test_scaled[3:4])\n",
        "print(train_target[indexes])"
      ],
      "execution_count": null,
      "outputs": [
        {
          "output_type": "stream",
          "text": [
            "[[-0.34698097 -0.23396068 -0.22320459 -0.11905019 -0.12233464]]\n",
            "[['Roach' 'Perch' 'Perch']]\n"
          ],
          "name": "stdout"
        }
      ]
    },
    {
      "cell_type": "markdown",
      "metadata": {
        "id": "9FFonNUlkNwJ"
      },
      "source": [
        "\n",
        "\n",
        "---\n",
        "\n"
      ]
    },
    {
      "cell_type": "markdown",
      "metadata": {
        "id": "bAhklphF5Xza"
      },
      "source": [
        "## 로지스틱 회귀\n",
        "* 선형 방정식을 사용한 분류 알고리즘\n",
        "* 선형 회귀와 동일하게 선형 방정식을 학습함\n",
        "* 선형 회귀와 달리 시그모이드 함수나 소프트맥스 함수를 사용하여 클래스 확률을 출력\n",
        "* $ z = a * (Weight) + b * (length) + c * (Diagonal) + d * (Height) + e * (Width) + f $\n",
        "* a,b,c,d,e는 가중치 혹은 계수\n",
        "* z는 어떤 값도 가능하나, 확률이 되려며 0~1(또는 0 ~ 100%) 사이 값이 되어야 함\n",
        "\n",
        "**다중 분류**\n",
        "* 타깃 클래스가 2개 이상인 분류 문제\n",
        "* 로지스틱 회귀는 다중 분류를 위해 소프트맥스 함수를 사용하여 클래스 예측함\n",
        "\n",
        "**시그모이드 함수 (로지스틱 함수)**\n",
        "* 하나의 선형 방정식의 출력값을 0~1사이로 압축하여 이진 분류를 위해 사용함\n",
        "* z가 아주 큰 음수일 때 0이 되고, z가 아주 큰 양수일 때 1이 되도록 바꾸는 방법\n",
        "* z가 무한하게 큰 음수일 경우 함수는 0에 가까워짐\n",
        "* z가 무한하게 큰 양수일 경우 함수는 1에 가까워짐\n",
        "* z가 0이 될 때는 0.5가 됨\n",
        "* z가 어떤 값이 되더라도 절대로 0~1사이의 범위를 벗어날 수 없음\n",
        "* 그래서 0~1사이 값을 0 ~ 100%까지 확률로 해석 가능\n",
        "* **이진 분류**에서 확률을 계산하기 위해 사용\n",
        "\n",
        "**소프트맥스 함수**\n",
        "* 다중 분류에서 여러 개의 선형 방정식의 출력값을 0~1사이로 압축하고 합이 1이 되도록 만듬\n",
        "* **다중 분류**에서 z값을 확률로 계산하기 위해 사용\n",
        "* 이를 위해 지수 함수 사용, 정규화된 지수 함수라고도 부름"
      ]
    },
    {
      "cell_type": "markdown",
      "metadata": {
        "id": "2YVaIalr3rFu"
      },
      "source": [
        "## 핵심 패키지와 함수\n",
        "\n",
        "**1) scikit-learn**\n",
        "\n",
        "LogisticRegreesion()\n",
        "* 로지스틱 회귀를 위한 클래스\n",
        "* 반복적인 알고리즘 사용\n",
        "* max_iter 매개변수로 반복횟수 지정\n",
        "* 릿지 회귀와 같이 계수의 제곱을 규제 = L2 규제\n",
        "* penalty 매개변수에서 L2(릿지), L1(라쏘) 규제 방식을 선택 가능함\n",
        "* 규제를 제어하는 매개변수는 C. 기본값은 1\n",
        "* C는 aplpha와 반대로 작을수록 규제가 커짐\n",
        "\n",
        "predict_proba() \n",
        "* 예측 확률값 반환\n",
        "* 이진 분류의 경우, 음성 클래스와 양성 클래스에 대한 확률 반환\n",
        "* 다중 분류의 경우, 모든 클래스에 대한 확률을 반환\n",
        "\n",
        "decision_function()\n",
        "* 모델이 학습한 선형 방정식의 출력을 반환\n",
        "* 이진 분류의 경우, 양성 클래스에 대한 z값 계산\n",
        "* 다중 분류의 경우, 각 클래스마다 선형 방정식(z) 계산. 가장 큰 값의 클래스가 예측 클래스가 됨\n",
        "\n",
        "exp()\n",
        "* 지수 함수 계산\n",
        "\n",
        "expit()\n",
        "* scipy 라이브러리\n",
        "* 시그모이드 함수"
      ]
    },
    {
      "cell_type": "code",
      "metadata": {
        "colab": {
          "base_uri": "https://localhost:8080/",
          "height": 265
        },
        "id": "LmeJujof8zK8",
        "outputId": "5b19cbe6-a6af-4275-9e96-60141af1c467"
      },
      "source": [
        "import numpy as np\n",
        "import matplotlib.pyplot as plt\n",
        "z = np.arange(-5, 5, 0.1) # -5와 5 사이에 0.1 간격으로 배열 z를 만듬\n",
        "phi = 1 / (1 + np.exp(-z)) # z 위치마다 시그모이드 함수 계산\n",
        "plt.plot(z, phi)\n",
        "plt.show()"
      ],
      "execution_count": null,
      "outputs": [
        {
          "output_type": "display_data",
          "data": {
            "image/png": "[encoded data removed]",
            "text/plain": [
              "<Figure size 432x288 with 1 Axes>"
            ]
          },
          "metadata": {
            "tags": [],
            "needs_background": "light"
          }
        }
      ]
    },
    {
      "cell_type": "code",
      "metadata": {
        "colab": {
          "base_uri": "https://localhost:8080/"
        },
        "id": "7aMjCeNR9wSW",
        "outputId": "cf5326dc-afda-48ce-e07e-7869c3c04468"
      },
      "source": [
        "char_arr = np.array(['A', 'B', 'C', 'D', 'E']) # 불리언 인덱싱\n",
        "print(char_arr[[True, False, True, False, False ]])"
      ],
      "execution_count": null,
      "outputs": [
        {
          "output_type": "stream",
          "text": [
            "['A' 'C']\n"
          ],
          "name": "stdout"
        }
      ]
    },
    {
      "cell_type": "markdown",
      "metadata": {
        "id": "GTgD1Ooii_Yp"
      },
      "source": [
        "\n",
        "\n",
        "---\n",
        "\n"
      ]
    },
    {
      "cell_type": "code",
      "metadata": {
        "colab": {
          "base_uri": "https://localhost:8080/"
        },
        "id": "CZyVWktiPbt6",
        "outputId": "57046ab0-efa7-4842-9889-fe3fac2e53b4"
      },
      "source": [
        "# 도미와 빙어만 분류\n",
        "bream_smelt_indexes = (train_target == 'Bream') | (train_target == 'Smelt')\n",
        "train_bream_smelt = train_scaled[bream_smelt_indexes]\n",
        "target_bream_smelt = train_target[bream_smelt_indexes]\n",
        "\n",
        "# 로지스틱 회귀 모델 이진 분류 수행\n",
        "from sklearn.linear_model import LogisticRegression\n",
        "lr = LogisticRegression()\n",
        "lr.fit(train_bream_smelt, target_bream_smelt)\n",
        "print(lr.predict(train_bream_smelt[:5])) # 처음 5개 샘플 예측"
      ],
      "execution_count": null,
      "outputs": [
        {
          "output_type": "stream",
          "text": [
            "['Bream' 'Smelt' 'Bream' 'Bream' 'Bream']\n"
          ],
          "name": "stdout"
        }
      ]
    },
    {
      "cell_type": "code",
      "metadata": {
        "colab": {
          "base_uri": "https://localhost:8080/"
        },
        "id": "C7f4IBicaOW2",
        "outputId": "31cf313c-74b4-44cc-a365-0d6e5d251ac5"
      },
      "source": [
        "print(lr.predict_proba(train_bream_smelt[:5])) # 음성 클래스에 대한 확률, 양성 클래스에 대한 확률\n",
        "print(lr.classes_) # 빙어(Smelt) 양성 클래스"
      ],
      "execution_count": null,
      "outputs": [
        {
          "output_type": "stream",
          "text": [
            "[[0.99759855 0.00240145]\n",
            " [0.02735183 0.97264817]\n",
            " [0.99486072 0.00513928]\n",
            " [0.98584202 0.01415798]\n",
            " [0.99767269 0.00232731]]\n",
            "['Bream' 'Smelt']\n"
          ],
          "name": "stdout"
        }
      ]
    },
    {
      "cell_type": "code",
      "metadata": {
        "colab": {
          "base_uri": "https://localhost:8080/"
        },
        "id": "O7z-URaqa02e",
        "outputId": "0f08ff1c-e276-4f65-b424-125b77c572ed"
      },
      "source": [
        "print(lr.coef_, lr.intercept_) # 로지스틱 회귀가 학습한 기울기(계수)와 절편"
      ],
      "execution_count": null,
      "outputs": [
        {
          "output_type": "stream",
          "text": [
            "[[-0.4037798  -0.57620209 -0.66280298 -1.01290277 -0.73168947]] [-2.16155132]\n"
          ],
          "name": "stdout"
        }
      ]
    },
    {
      "cell_type": "code",
      "metadata": {
        "colab": {
          "base_uri": "https://localhost:8080/"
        },
        "id": "pfaruzQMdXWN",
        "outputId": "15203a80-8429-4ade-d7a1-190dd87f5c49"
      },
      "source": [
        "decisions = lr.decision_function(train_bream_smelt[:5]) # z값 계산\n",
        "print(decisions) # 로지스틱 회귀 z값 출력, 처음 5개 샘플"
      ],
      "execution_count": null,
      "outputs": [
        {
          "output_type": "stream",
          "text": [
            "[-6.02927744  3.57123907 -5.26568906 -4.24321775 -6.0607117 ]\n"
          ],
          "name": "stdout"
        }
      ]
    },
    {
      "cell_type": "code",
      "metadata": {
        "colab": {
          "base_uri": "https://localhost:8080/"
        },
        "id": "TLoJH8xSdnuW",
        "outputId": "8fe844d3-3ed6-43d2-ced4-346d4f946aa6"
      },
      "source": [
        "from scipy.special import expit # 시그모이드 함수 적용\n",
        "print(expit(decisions)) "
      ],
      "execution_count": null,
      "outputs": [
        {
          "output_type": "stream",
          "text": [
            "[0.00240145 0.97264817 0.00513928 0.01415798 0.00232731]\n"
          ],
          "name": "stdout"
        }
      ]
    },
    {
      "cell_type": "markdown",
      "metadata": {
        "id": "AJj8bs1EjKRa"
      },
      "source": [
        "\n",
        "\n",
        "---\n",
        "\n"
      ]
    },
    {
      "cell_type": "code",
      "metadata": {
        "colab": {
          "base_uri": "https://localhost:8080/"
        },
        "id": "03MOL9zmek52",
        "outputId": "16275135-7690-4d2a-b252-cde43f9a643e"
      },
      "source": [
        "# 로지스틱 회귀로 다중 분류 수행\n",
        "lr = LogisticRegression(C=20, max_iter=1000) # 반복 횟수, 규제 적용\n",
        "lr.fit(train_scaled, train_target) # 훈련\n",
        "print(lr.score(train_scaled, train_target)) # 평가\n",
        "print(lr.score(test_scaled, test_target))"
      ],
      "execution_count": null,
      "outputs": [
        {
          "output_type": "stream",
          "text": [
            "0.9327731092436975\n",
            "0.925\n"
          ],
          "name": "stdout"
        }
      ]
    },
    {
      "cell_type": "code",
      "metadata": {
        "colab": {
          "base_uri": "https://localhost:8080/"
        },
        "id": "Y7d7BiQ5f3sC",
        "outputId": "90cc646b-6c3f-4ee9-f39d-98d349185660"
      },
      "source": [
        "print(lr.predict(test_scaled[:5]))\n",
        "proba = lr.predict_proba(test_scaled[:5])\n",
        "print(lr.classes_) # 타깃 종류\n",
        "print(np.round(proba, decimals=3)) # 5개 샘플에 대한 예측 확률\n",
        "print(lr.coef_.shape, lr.intercept_.shape) # 5개의 특성, z를 7개 계산"
      ],
      "execution_count": null,
      "outputs": [
        {
          "output_type": "stream",
          "text": [
            "['Perch' 'Smelt' 'Pike' 'Roach' 'Perch']\n",
            "['Bream' 'Parkki' 'Perch' 'Pike' 'Roach' 'Smelt' 'Whitefish']\n",
            "[[0.    0.014 0.841 0.    0.136 0.007 0.003]\n",
            " [0.    0.003 0.044 0.    0.007 0.946 0.   ]\n",
            " [0.    0.    0.034 0.935 0.015 0.016 0.   ]\n",
            " [0.011 0.034 0.306 0.007 0.567 0.    0.076]\n",
            " [0.    0.    0.904 0.002 0.089 0.002 0.001]]\n",
            "(7, 5) (7,)\n"
          ],
          "name": "stdout"
        }
      ]
    },
    {
      "cell_type": "code",
      "metadata": {
        "colab": {
          "base_uri": "https://localhost:8080/"
        },
        "id": "8kC8kXAUjsPH",
        "outputId": "aa2fbe83-b970-462d-93fb-728d7bfcb455"
      },
      "source": [
        "decision = lr.decision_function(test_scaled[:5]) # 양성 클래스에 대한 z1~z7값 계산\n",
        "print(np.round(decision, decimals=2)) # 5개 샘플에 대한 z1~z7 값\n",
        "\n",
        "from scipy.special import softmax # 소프트맥스 함수 적용\n",
        "proba = softmax(decision, axis=1) # axis는 축을 지정, 즉 각 행(각 샘플)에 대해 소프트맥스를 계산\n",
        "print(np.round(proba, decimals=3))"
      ],
      "execution_count": null,
      "outputs": [
        {
          "output_type": "stream",
          "text": [
            "[[ -6.5    1.03   5.16  -2.73   3.34   0.33  -0.63]\n",
            " [-10.86   1.93   4.77  -2.4    2.98   7.84  -4.26]\n",
            " [ -4.34  -6.23   3.17   6.49   2.36   2.42  -3.87]\n",
            " [ -0.68   0.45   2.65  -1.19   3.26  -5.75   1.26]\n",
            " [ -6.4   -1.99   5.82  -0.11   3.5   -0.11  -0.71]]\n",
            "[[0.    0.014 0.841 0.    0.136 0.007 0.003]\n",
            " [0.    0.003 0.044 0.    0.007 0.946 0.   ]\n",
            " [0.    0.    0.034 0.935 0.015 0.016 0.   ]\n",
            " [0.011 0.034 0.306 0.007 0.567 0.    0.076]\n",
            " [0.    0.    0.904 0.002 0.089 0.002 0.001]]\n"
          ],
          "name": "stdout"
        }
      ]
    },
    {
      "cell_type": "markdown",
      "metadata": {
        "id": "9InTVNqhoW_U"
      },
      "source": [
        "# 4-2. 확률적 경사 **하강법**"
      ]
    },
    {
      "cell_type": "markdown",
      "metadata": {
        "id": "08rosoj3tlbh"
      },
      "source": [
        "## 점진적 학습 (온라인 학습)\n",
        "* 훈련한 모델을 버리지 않고 새로운 데이터에 대해서만 조금씩 더 훈련하는 방법\n",
        "* 훈련에 사용한 데이터를 유지할 필요도 없고, 학습한 데이터를 까먹지도 않음\n",
        "* 대표적인 점진적 학습 알고리즘은 확률적 경사 하강법임\n",
        "\n",
        "**확률적 경사 하강법**\n",
        "* 훈련 세트에서 샘플 하나씩 꺼내 손실 함수의 경사를 따라 최적의 모델을 찾는 알고리즘\n",
        "* 가장 가파른 경사를 따라 원하는 지점에 도달하는 것\n",
        "* 훈련 세트에서 랜덤하게 하나의 샘플을 선택하여 가파른 경사를 조금 내려감. \n",
        "* 그 다음 훈련 세트에서 랜덤하게 또 다른 샘플을 하나 선택하여 경사를 조금 내려감. \n",
        "* 이런 식으로 전체 샘플을 모두 사용할 때까지 계속함\n",
        "* 다 내려오지 못하면 다시 처음부터 시작함. 훈련 세트에 모든 샘플을 다시 채워 넣음\n",
        "* 신경망 모델에서 사용함\n",
        "\n",
        "**에포크**\n",
        "* 확률적 경사 하강법에서 훈련 세트를 한 번 모두 사용하는 과정\n",
        "* 보통 경사 하강법은 수십, 수백 번 이상 에포크를 수행함\n",
        "\n",
        "**미니배치 경사 하강법**\n",
        "* 여러 개의 샘플을 사용해 경사 하강법을 수행하는 방식\n",
        "* 신경망 모델에서 사용함\n",
        "\n",
        "**배치 경사 하강법**\n",
        "* 한 번 경사로를 따라 이동하기 위해 전체 샘플을 사용\n",
        "* 가장 안정적인 방법이나 자원 낭비\n",
        "\n",
        "\n",
        "훈련 세트에서 \n",
        "* 1개씩 꺼내기 -> 확률적 경사 하강법\n",
        "* 여러 개씩 꺼내기 -> 미니배치 경사 하강법\n",
        "* 몽땅 꺼내기 -> 배치 경사 하강법\n"
      ]
    },
    {
      "cell_type": "markdown",
      "metadata": {
        "id": "rXMCAuyzbLDT"
      },
      "source": [
        "**손실 함수**\n",
        "* 확률적 경사 하강법이 최적화활 대상\n",
        "* 머신러닝 알고리즘이 얼마나 엉터리인지 측정하는 기준\n",
        "* 값이 작을수록 좋음\n",
        "* 비용 함수는 손실 함수의 다른말\n",
        "* 손실 함수는 샘플 하나에 대한 손실을 정의\n",
        "* 비용 함수는 훈련 세트에 있는 모든 샘플에 대한 손실 함수의 합을 말함\n",
        "\n",
        "**로지스틱 손실 함수, 이진 크로스엔트로피 손실 함수**\n",
        "* 이진 분류에 사용\n",
        "* 타깃 = 1 일때, $-log(예측확률)$\n",
        "* 타깃 = 0 일때, $-log(1-예측확률)$\n",
        "* 예측 확률이 1과 가까워질수록 손실은 작은 양수가 됨\n",
        "* 예측 확률이 1에서 멀어질수록 손실은 아주 큰 양수가 됨\n",
        "\n",
        "**크로스엔트로피 손실 함수**\n",
        "* 다중 분류에 사용\n",
        "\n",
        "**평균 제곱 오차 손실 함수**\n",
        "* 회귀 문제에 사용"
      ]
    },
    {
      "cell_type": "code",
      "metadata": {
        "id": "hn0EzeEvtaNR",
        "colab": {
          "base_uri": "https://localhost:8080/"
        },
        "outputId": "f11114eb-840c-4cdd-c5a8-7cadf1da4f4e"
      },
      "source": [
        "# 확률적 경사 하강법을 사용한 분류 모델\n",
        "import pandas as pd\n",
        "fish = pd.read_csv('https://bit.ly/fish_csv')\n",
        "\n",
        "fish_input = fish[['Weight', 'Length', 'Diagonal', 'Height', 'Width']].to_numpy() # 입력 데이터\n",
        "fish_target = fish['Species'].to_numpy() # 타깃 데이터\n",
        "\n",
        "from sklearn.model_selection import train_test_split\n",
        "train_input, test_input, train_target, test_target = train_test_split(fish_input, fish_target, random_state=42)  # 훈련 데이터, 테스트 데이터\n",
        "\n",
        "from sklearn.preprocessing import StandardScaler\n",
        "ss = StandardScaler() \n",
        "ss.fit(train_input)\n",
        "train_scaled = ss.transform(train_input) # 표준화 전처리, 훈련 데이터\n",
        "test_scaled = ss.transform(test_input) # 표준화 전처리, 테스트 데이터\n",
        "\n",
        "# 확률적 경사 하강법 적용\n",
        "from sklearn.linear_model import SGDClassifier # 확률적 경사 하강법을 제공하는 분류용 클래스\n",
        "sc = SGDClassifier(loss='log', max_iter=10, random_state=42) # 로지스틱 손실 함수 지정, 수행할 에포크 횟수 지정\n",
        "sc.fit(train_scaled, train_target)\n",
        "print(sc.score(train_scaled, train_target))\n",
        "print(sc.score(test_scaled, test_target))\n",
        "\n",
        "# 확률적 경사 하강법으로 점진적 학습\n",
        "sc.partial_fit(train_scaled, train_target) # 모델을 이어서 훈련할때, partial_fit() 함수 사용\n",
        "print(sc.score(train_scaled, train_target))\n",
        "print(sc.score(test_scaled, test_target))"
      ],
      "execution_count": null,
      "outputs": [
        {
          "output_type": "stream",
          "text": [
            "0.773109243697479\n",
            "0.775\n",
            "0.8151260504201681\n",
            "0.825\n"
          ],
          "name": "stdout"
        },
        {
          "output_type": "stream",
          "text": [
            "/usr/local/lib/python3.7/dist-packages/sklearn/linear_model/_stochastic_gradient.py:557: ConvergenceWarning: Maximum number of iteration reached before convergence. Consider increasing max_iter to improve the fit.\n",
            "  ConvergenceWarning)\n"
          ],
          "name": "stderr"
        }
      ]
    },
    {
      "cell_type": "markdown",
      "metadata": {
        "id": "ihMrxRvC3bPo"
      },
      "source": [
        "**에포크와 과대/과소적합**\n",
        "* 에포크 횟수가 적으면 모델이 훈련 세트를 덜 학습하여 과소적합이 일어남\n",
        "* 에포크 횟수가 많으면 모델이 훈련 세트에 너무 잘 맞아 과대적합이 일어남\n",
        "* 에포크가 진행됨에 따라 훈련 세트 점수는 증가하지만 테스트 세트 점수는 어느 순간 감소하기 시작함\n",
        "* 해당 지점이 과대적합되기 시작하는 곳\n",
        "* 과대 적합이 시작하기 전 훈련을 멈추는 것이 **조기 종료**라고 함"
      ]
    },
    {
      "cell_type": "code",
      "metadata": {
        "colab": {
          "base_uri": "https://localhost:8080/",
          "height": 265
        },
        "id": "DGWjmKGe4gFo",
        "outputId": "05d9b63d-f5df-4bff-c3c9-60614c25375d"
      },
      "source": [
        "import numpy as np\n",
        "sc = SGDClassifier(loss='log', random_state=42)\n",
        "train_score = [] # 훈련 세트 점수\n",
        "test_score = [] # 테스트 세트 점수\n",
        "classes = np.unique(train_target) # 7개 종류의 생선 목록 만듬\n",
        "\n",
        "for _ in range(0,300): # _ 임시 변수, 300번의 에포크 동안 훈련\n",
        "  sc.partial_fit(train_scaled, train_target, classes=classes) # 훈련\n",
        "  train_score.append(sc.score(train_scaled, train_target)) # 훈련 점수 -> 추가\n",
        "  test_score.append(sc.score(test_scaled, test_target)) # 테스트 점수 -> 추가\n",
        "\n",
        "# 점수 그래프\n",
        "import matplotlib.pyplot as plt\n",
        "plt.plot(train_score)\n",
        "plt.plot(test_score)\n",
        "plt.show() # 100번째 에포크 이후 점수차 생김"
      ],
      "execution_count": null,
      "outputs": [
        {
          "output_type": "display_data",
          "data": {
            "image/png": "[encoded data removed]",
            "text/plain": [
              "<Figure size 432x288 with 1 Axes>"
            ]
          },
          "metadata": {
            "tags": [],
            "needs_background": "light"
          }
        }
      ]
    },
    {
      "cell_type": "code",
      "metadata": {
        "colab": {
          "base_uri": "https://localhost:8080/"
        },
        "id": "R81dbGft-gwv",
        "outputId": "c871d4fc-7699-4441-9219-c25ff7788666"
      },
      "source": [
        "# 에포크 횟수 100에 맞추어 다시 모델 훈련\n",
        "sc = SGDClassifier(loss='log', max_iter=100, tol=None, random_state=42)\n",
        "sc.fit(train_scaled, train_target)\n",
        "print(sc.score(train_scaled, train_target)) \n",
        "print(sc.score(test_scaled, test_target))\n",
        "# 정확도가 높게 나옴"
      ],
      "execution_count": null,
      "outputs": [
        {
          "output_type": "stream",
          "text": [
            "0.957983193277311\n",
            "0.925\n"
          ],
          "name": "stdout"
        }
      ]
    },
    {
      "cell_type": "markdown",
      "metadata": {
        "id": "T9-oVQoo_AV6"
      },
      "source": [
        "## 핵심 패키지와 함수\n",
        "\n",
        "**1) scikit-learn**\n",
        "\n",
        "SGDClassifier()\n",
        "* 확률적 경사 하강법을 사용한 분류 모델을 만듬\n",
        "* loss 매개변수는 최적화활 손실 함수를 지정함\n",
        "* 로지스틱 회귀를 위해서는 'log'로 지정함\n",
        "* 기본값은 서포트 벡터 머신을 위한 'hinge' 손실 함수임\n",
        "* 힌지 손실, 서포트 벡터 머신이라 불리는 또 다른 머신러닝 알고리즘을 위한 손실함수\n",
        "* max_iter 매개변수는 에포크 횟수를 지정함\n",
        "* 기본값은 1000임\n",
        "* tol 매개변수는 반복을 멈출 조건임\n",
        "\n",
        "SGDRegressor()\n",
        "* 확률적 경사 하강법을 사용한 회귀 모델을 만듬\n",
        "* loss 매개변수의 기본값은 제곱 오차를 나타내는 squared_loss임\n"
      ]
    },
    {
      "cell_type": "code",
      "metadata": {
        "colab": {
          "base_uri": "https://localhost:8080/"
        },
        "id": "UWWn4T-6_XnJ",
        "outputId": "509b7d5f-5ce3-4f56-8438-67d0cbb83fb0"
      },
      "source": [
        "# 힌지 손실을 사용한 모델\n",
        "sc = SGDClassifier(loss='hinge', max_iter=100, tol=None, random_state=42)\n",
        "sc.fit(train_scaled, train_target)\n",
        "print(sc.score(train_scaled, train_target))\n",
        "print(sc.score(test_scaled, test_target))"
      ],
      "execution_count": null,
      "outputs": [
        {
          "output_type": "stream",
          "text": [
            "0.9495798319327731\n",
            "0.925\n"
          ],
          "name": "stdout"
        }
      ]
    }
  ]
}